{
 "cells": [
  {
   "cell_type": "code",
   "execution_count": 1,
   "id": "2e0bdae6",
   "metadata": {},
   "outputs": [],
   "source": [
    "import pandas as pd\n",
    "import numpy as np\n",
    "import seaborn as sb\n",
    "import wikipedia"
   ]
  },
  {
   "cell_type": "code",
   "execution_count": 2,
   "id": "c2081fc3",
   "metadata": {},
   "outputs": [],
   "source": [
    "#! pip install wikipedia"
   ]
  },
  {
   "cell_type": "code",
   "execution_count": 3,
   "id": "353c39df",
   "metadata": {},
   "outputs": [],
   "source": [
    "#dir(wikipedia)"
   ]
  },
  {
   "cell_type": "code",
   "execution_count": 4,
   "id": "e01f1509",
   "metadata": {},
   "outputs": [
    {
     "data": {
      "text/plain": [
       "\"A face book or facebook is a common or web directory found at some American universities consisting of individuals' photographs and names. In particular, it denotes publications of this type distributed by university administrations at the start of the academic year, with the intention of helping students to get to know each other.\""
      ]
     },
     "execution_count": 4,
     "metadata": {},
     "output_type": "execute_result"
    }
   ],
   "source": [
    "wikipedia.summary(\"Facebook\",sentences=2)"
   ]
  },
  {
   "cell_type": "code",
   "execution_count": 5,
   "id": "92df4dd9",
   "metadata": {},
   "outputs": [
    {
     "data": {
      "text/plain": [
       "['Generative artificial intelligence',\n",
       " 'Generative pre-trained transformer',\n",
       " 'ChatGPT',\n",
       " 'AI boom',\n",
       " 'Artificial intelligence and copyright',\n",
       " 'Stable Diffusion',\n",
       " 'Generative adversarial network',\n",
       " 'Dead Internet theory',\n",
       " 'Large language model',\n",
       " 'Joe Penna']"
      ]
     },
     "execution_count": 5,
     "metadata": {},
     "output_type": "execute_result"
    }
   ],
   "source": [
    "wikipedia.search(\"Generative AI\",10)"
   ]
  },
  {
   "cell_type": "code",
   "execution_count": 6,
   "id": "5d1ec1e0",
   "metadata": {},
   "outputs": [],
   "source": [
    "r=wikipedia.page(\"Indian\")"
   ]
  },
  {
   "cell_type": "code",
   "execution_count": 7,
   "id": "bca083a8",
   "metadata": {},
   "outputs": [
    {
     "data": {
      "text/plain": [
       "'https://en.wikipedia.org/wiki/India'"
      ]
     },
     "execution_count": 7,
     "metadata": {},
     "output_type": "execute_result"
    }
   ],
   "source": [
    "r.url"
   ]
  },
  {
   "cell_type": "code",
   "execution_count": 8,
   "id": "7351ac56",
   "metadata": {},
   "outputs": [
    {
     "data": {
      "text/plain": [
       "['_WikipediaPage__continued_query',\n",
       " '_WikipediaPage__load',\n",
       " '_WikipediaPage__title_query_param',\n",
       " '__class__',\n",
       " '__delattr__',\n",
       " '__dict__',\n",
       " '__dir__',\n",
       " '__doc__',\n",
       " '__eq__',\n",
       " '__format__',\n",
       " '__ge__',\n",
       " '__getattribute__',\n",
       " '__getstate__',\n",
       " '__gt__',\n",
       " '__hash__',\n",
       " '__init__',\n",
       " '__init_subclass__',\n",
       " '__le__',\n",
       " '__lt__',\n",
       " '__module__',\n",
       " '__ne__',\n",
       " '__new__',\n",
       " '__reduce__',\n",
       " '__reduce_ex__',\n",
       " '__repr__',\n",
       " '__setattr__',\n",
       " '__sizeof__',\n",
       " '__str__',\n",
       " '__subclasshook__',\n",
       " '__weakref__',\n",
       " 'categories',\n",
       " 'content',\n",
       " 'coordinates',\n",
       " 'html',\n",
       " 'images',\n",
       " 'links',\n",
       " 'original_title',\n",
       " 'pageid',\n",
       " 'parent_id',\n",
       " 'references',\n",
       " 'revision_id',\n",
       " 'section',\n",
       " 'sections',\n",
       " 'summary',\n",
       " 'title',\n",
       " 'url']"
      ]
     },
     "execution_count": 8,
     "metadata": {},
     "output_type": "execute_result"
    }
   ],
   "source": [
    "dir(r)"
   ]
  },
  {
   "cell_type": "code",
   "execution_count": 9,
   "id": "e6e7c5c6",
   "metadata": {},
   "outputs": [
    {
     "name": "stderr",
     "output_type": "stream",
     "text": [
      "C:\\Users\\Lenovo\\anaconda3\\Lib\\site-packages\\wikipedia\\wikipedia.py:389: GuessedAtParserWarning: No parser was explicitly specified, so I'm using the best available HTML parser for this system (\"lxml\"). This usually isn't a problem, but if you run this code on another system, or in a different virtual environment, it may use a different parser and behave differently.\n",
      "\n",
      "The code that caused this warning is on line 389 of the file C:\\Users\\Lenovo\\anaconda3\\Lib\\site-packages\\wikipedia\\wikipedia.py. To get rid of this warning, pass the additional argument 'features=\"lxml\"' to the BeautifulSoup constructor.\n",
      "\n",
      "  lis = BeautifulSoup(html).find_all('li')\n"
     ]
    },
    {
     "ename": "DisambiguationError",
     "evalue": "\"indian\" may refer to: \nIndian people\nNon-resident Indian\nSouth Asian ethnic groups\nAnglo-Indians\nEast Indians\nBritish Indians\nIndo-Canadians\nIndo-Caribbean\nIndo-Trinidadian and Tobagonian\nIndo-Guyanese\nIndo-Surinamese\nIndo-Jamaican\nIndian Americans\nIndigenous peoples of the Americas\nPlains Indians\nNative Americans in the United States\nNative American tribes\nIndigenous peoples in Canada\nFirst Nations in Canada\nIndigenous peoples of South America\nNative Mexicans\nIndigenous peoples of Central America\nIndigenous peoples of the Caribbean\nWest Indians\nMardi Gras Indians\nAboriginal Australians\nIndian Australians\nLanguages of India\nIndian English\nIndigenous languages of the Americas\nIndian, West Virginia\nThe Indians\nIndian Creek (disambiguation)\nIndian Island (disambiguation)\nIndian Peak\nIndian River (disambiguation)\nIndian Run (disambiguation)\nIndian subcontinent\nIndian Ocean\nIndian cinema\nIndian (1996 film)\nIndian (2001 film)\nIndians (musician)\n\"Indian\" (song)\nIndian (soundtrack)\n\"Indians\" (song)\nGojira\nIndian (card game)\nIndian soap opera\nIndians (play)\nIndians (sculpture)\nIndian (airline)\nIndian Motocycle Manufacturing Company\nAkwesasne Indians\nCalcutta Indians\nCleveland Indians\nFrölunda HC\nHannover Indians\nIndian Arrows\nIndianapolis Indians\nIndios de Mayagüez\nMumbai Indians\nSpringfield Indians\nIndian cuisine\nIndian Head cent\nAll pages with titles beginning with Indian\nAll pages with titles containing Indian\nHindustani (disambiguation)\nIndica (disambiguation)\nIndian Point (disambiguation)\nIndia (disambiguation)\nIndicum (disambiguation)\nIndicus (disambiguation)\nIndo (disambiguation)\nIndio (disambiguation)\nIndus (disambiguation)\nIndus (constellation)\nAmerican Indians (disambiguation)\nNative American name controversy\nIndies (disambiguation)\nEast Indies (disambiguation)\nWest Indies (disambiguation)\nIndiana (disambiguation)",
     "output_type": "error",
     "traceback": [
      "\u001b[1;31m---------------------------------------------------------------------------\u001b[0m",
      "\u001b[1;31mDisambiguationError\u001b[0m                       Traceback (most recent call last)",
      "Cell \u001b[1;32mIn[9], line 1\u001b[0m\n\u001b[1;32m----> 1\u001b[0m \u001b[38;5;28mprint\u001b[39m(wikipedia\u001b[38;5;241m.\u001b[39msummary(\u001b[38;5;124m\"\u001b[39m\u001b[38;5;124mIndia\u001b[39m\u001b[38;5;124m\"\u001b[39m))\n",
      "File \u001b[1;32m~\\anaconda3\\Lib\\site-packages\\wikipedia\\util.py:28\u001b[0m, in \u001b[0;36mcache.__call__\u001b[1;34m(self, *args, **kwargs)\u001b[0m\n\u001b[0;32m     26\u001b[0m   ret \u001b[38;5;241m=\u001b[39m \u001b[38;5;28mself\u001b[39m\u001b[38;5;241m.\u001b[39m_cache[key]\n\u001b[0;32m     27\u001b[0m \u001b[38;5;28;01melse\u001b[39;00m:\n\u001b[1;32m---> 28\u001b[0m   ret \u001b[38;5;241m=\u001b[39m \u001b[38;5;28mself\u001b[39m\u001b[38;5;241m.\u001b[39m_cache[key] \u001b[38;5;241m=\u001b[39m \u001b[38;5;28mself\u001b[39m\u001b[38;5;241m.\u001b[39mfn(\u001b[38;5;241m*\u001b[39margs, \u001b[38;5;241m*\u001b[39m\u001b[38;5;241m*\u001b[39mkwargs)\n\u001b[0;32m     30\u001b[0m \u001b[38;5;28;01mreturn\u001b[39;00m ret\n",
      "File \u001b[1;32m~\\anaconda3\\Lib\\site-packages\\wikipedia\\wikipedia.py:231\u001b[0m, in \u001b[0;36msummary\u001b[1;34m(title, sentences, chars, auto_suggest, redirect)\u001b[0m\n\u001b[0;32m    216\u001b[0m \u001b[38;5;250m\u001b[39m\u001b[38;5;124;03m'''\u001b[39;00m\n\u001b[0;32m    217\u001b[0m \u001b[38;5;124;03mPlain text summary of the page.\u001b[39;00m\n\u001b[0;32m    218\u001b[0m \n\u001b[1;32m   (...)\u001b[0m\n\u001b[0;32m    226\u001b[0m \u001b[38;5;124;03m* redirect - allow redirection without raising RedirectError\u001b[39;00m\n\u001b[0;32m    227\u001b[0m \u001b[38;5;124;03m'''\u001b[39;00m\n\u001b[0;32m    229\u001b[0m \u001b[38;5;66;03m# use auto_suggest and redirect to get the correct article\u001b[39;00m\n\u001b[0;32m    230\u001b[0m \u001b[38;5;66;03m# also, use page's error checking to raise DisambiguationError if necessary\u001b[39;00m\n\u001b[1;32m--> 231\u001b[0m page_info \u001b[38;5;241m=\u001b[39m page(title, auto_suggest\u001b[38;5;241m=\u001b[39mauto_suggest, redirect\u001b[38;5;241m=\u001b[39mredirect)\n\u001b[0;32m    232\u001b[0m title \u001b[38;5;241m=\u001b[39m page_info\u001b[38;5;241m.\u001b[39mtitle\n\u001b[0;32m    233\u001b[0m pageid \u001b[38;5;241m=\u001b[39m page_info\u001b[38;5;241m.\u001b[39mpageid\n",
      "File \u001b[1;32m~\\anaconda3\\Lib\\site-packages\\wikipedia\\wikipedia.py:276\u001b[0m, in \u001b[0;36mpage\u001b[1;34m(title, pageid, auto_suggest, redirect, preload)\u001b[0m\n\u001b[0;32m    273\u001b[0m     \u001b[38;5;28;01mexcept\u001b[39;00m \u001b[38;5;167;01mIndexError\u001b[39;00m:\n\u001b[0;32m    274\u001b[0m       \u001b[38;5;66;03m# if there is no suggestion or search results, the page doesn't exist\u001b[39;00m\n\u001b[0;32m    275\u001b[0m       \u001b[38;5;28;01mraise\u001b[39;00m PageError(title)\n\u001b[1;32m--> 276\u001b[0m   \u001b[38;5;28;01mreturn\u001b[39;00m WikipediaPage(title, redirect\u001b[38;5;241m=\u001b[39mredirect, preload\u001b[38;5;241m=\u001b[39mpreload)\n\u001b[0;32m    277\u001b[0m \u001b[38;5;28;01melif\u001b[39;00m pageid \u001b[38;5;129;01mis\u001b[39;00m \u001b[38;5;129;01mnot\u001b[39;00m \u001b[38;5;28;01mNone\u001b[39;00m:\n\u001b[0;32m    278\u001b[0m   \u001b[38;5;28;01mreturn\u001b[39;00m WikipediaPage(pageid\u001b[38;5;241m=\u001b[39mpageid, preload\u001b[38;5;241m=\u001b[39mpreload)\n",
      "File \u001b[1;32m~\\anaconda3\\Lib\\site-packages\\wikipedia\\wikipedia.py:299\u001b[0m, in \u001b[0;36mWikipediaPage.__init__\u001b[1;34m(self, title, pageid, redirect, preload, original_title)\u001b[0m\n\u001b[0;32m    296\u001b[0m \u001b[38;5;28;01melse\u001b[39;00m:\n\u001b[0;32m    297\u001b[0m   \u001b[38;5;28;01mraise\u001b[39;00m \u001b[38;5;167;01mValueError\u001b[39;00m(\u001b[38;5;124m\"\u001b[39m\u001b[38;5;124mEither a title or a pageid must be specified\u001b[39m\u001b[38;5;124m\"\u001b[39m)\n\u001b[1;32m--> 299\u001b[0m \u001b[38;5;28mself\u001b[39m\u001b[38;5;241m.\u001b[39m__load(redirect\u001b[38;5;241m=\u001b[39mredirect, preload\u001b[38;5;241m=\u001b[39mpreload)\n\u001b[0;32m    301\u001b[0m \u001b[38;5;28;01mif\u001b[39;00m preload:\n\u001b[0;32m    302\u001b[0m   \u001b[38;5;28;01mfor\u001b[39;00m prop \u001b[38;5;129;01min\u001b[39;00m (\u001b[38;5;124m'\u001b[39m\u001b[38;5;124mcontent\u001b[39m\u001b[38;5;124m'\u001b[39m, \u001b[38;5;124m'\u001b[39m\u001b[38;5;124msummary\u001b[39m\u001b[38;5;124m'\u001b[39m, \u001b[38;5;124m'\u001b[39m\u001b[38;5;124mimages\u001b[39m\u001b[38;5;124m'\u001b[39m, \u001b[38;5;124m'\u001b[39m\u001b[38;5;124mreferences\u001b[39m\u001b[38;5;124m'\u001b[39m, \u001b[38;5;124m'\u001b[39m\u001b[38;5;124mlinks\u001b[39m\u001b[38;5;124m'\u001b[39m, \u001b[38;5;124m'\u001b[39m\u001b[38;5;124msections\u001b[39m\u001b[38;5;124m'\u001b[39m):\n",
      "File \u001b[1;32m~\\anaconda3\\Lib\\site-packages\\wikipedia\\wikipedia.py:393\u001b[0m, in \u001b[0;36mWikipediaPage.__load\u001b[1;34m(self, redirect, preload)\u001b[0m\n\u001b[0;32m    390\u001b[0m   filtered_lis \u001b[38;5;241m=\u001b[39m [li \u001b[38;5;28;01mfor\u001b[39;00m li \u001b[38;5;129;01min\u001b[39;00m lis \u001b[38;5;28;01mif\u001b[39;00m \u001b[38;5;129;01mnot\u001b[39;00m \u001b[38;5;124m'\u001b[39m\u001b[38;5;124mtocsection\u001b[39m\u001b[38;5;124m'\u001b[39m \u001b[38;5;129;01min\u001b[39;00m \u001b[38;5;124m'\u001b[39m\u001b[38;5;124m'\u001b[39m\u001b[38;5;241m.\u001b[39mjoin(li\u001b[38;5;241m.\u001b[39mget(\u001b[38;5;124m'\u001b[39m\u001b[38;5;124mclass\u001b[39m\u001b[38;5;124m'\u001b[39m, []))]\n\u001b[0;32m    391\u001b[0m   may_refer_to \u001b[38;5;241m=\u001b[39m [li\u001b[38;5;241m.\u001b[39ma\u001b[38;5;241m.\u001b[39mget_text() \u001b[38;5;28;01mfor\u001b[39;00m li \u001b[38;5;129;01min\u001b[39;00m filtered_lis \u001b[38;5;28;01mif\u001b[39;00m li\u001b[38;5;241m.\u001b[39ma]\n\u001b[1;32m--> 393\u001b[0m   \u001b[38;5;28;01mraise\u001b[39;00m DisambiguationError(\u001b[38;5;28mgetattr\u001b[39m(\u001b[38;5;28mself\u001b[39m, \u001b[38;5;124m'\u001b[39m\u001b[38;5;124mtitle\u001b[39m\u001b[38;5;124m'\u001b[39m, page[\u001b[38;5;124m'\u001b[39m\u001b[38;5;124mtitle\u001b[39m\u001b[38;5;124m'\u001b[39m]), may_refer_to)\n\u001b[0;32m    395\u001b[0m \u001b[38;5;28;01melse\u001b[39;00m:\n\u001b[0;32m    396\u001b[0m   \u001b[38;5;28mself\u001b[39m\u001b[38;5;241m.\u001b[39mpageid \u001b[38;5;241m=\u001b[39m pageid\n",
      "\u001b[1;31mDisambiguationError\u001b[0m: \"indian\" may refer to: \nIndian people\nNon-resident Indian\nSouth Asian ethnic groups\nAnglo-Indians\nEast Indians\nBritish Indians\nIndo-Canadians\nIndo-Caribbean\nIndo-Trinidadian and Tobagonian\nIndo-Guyanese\nIndo-Surinamese\nIndo-Jamaican\nIndian Americans\nIndigenous peoples of the Americas\nPlains Indians\nNative Americans in the United States\nNative American tribes\nIndigenous peoples in Canada\nFirst Nations in Canada\nIndigenous peoples of South America\nNative Mexicans\nIndigenous peoples of Central America\nIndigenous peoples of the Caribbean\nWest Indians\nMardi Gras Indians\nAboriginal Australians\nIndian Australians\nLanguages of India\nIndian English\nIndigenous languages of the Americas\nIndian, West Virginia\nThe Indians\nIndian Creek (disambiguation)\nIndian Island (disambiguation)\nIndian Peak\nIndian River (disambiguation)\nIndian Run (disambiguation)\nIndian subcontinent\nIndian Ocean\nIndian cinema\nIndian (1996 film)\nIndian (2001 film)\nIndians (musician)\n\"Indian\" (song)\nIndian (soundtrack)\n\"Indians\" (song)\nGojira\nIndian (card game)\nIndian soap opera\nIndians (play)\nIndians (sculpture)\nIndian (airline)\nIndian Motocycle Manufacturing Company\nAkwesasne Indians\nCalcutta Indians\nCleveland Indians\nFrölunda HC\nHannover Indians\nIndian Arrows\nIndianapolis Indians\nIndios de Mayagüez\nMumbai Indians\nSpringfield Indians\nIndian cuisine\nIndian Head cent\nAll pages with titles beginning with Indian\nAll pages with titles containing Indian\nHindustani (disambiguation)\nIndica (disambiguation)\nIndian Point (disambiguation)\nIndia (disambiguation)\nIndicum (disambiguation)\nIndicus (disambiguation)\nIndo (disambiguation)\nIndio (disambiguation)\nIndus (disambiguation)\nIndus (constellation)\nAmerican Indians (disambiguation)\nNative American name controversy\nIndies (disambiguation)\nEast Indies (disambiguation)\nWest Indies (disambiguation)\nIndiana (disambiguation)"
     ]
    }
   ],
   "source": [
    "print(wikipedia.summary(\"India\"))"
   ]
  },
  {
   "cell_type": "markdown",
   "id": "1c548200",
   "metadata": {},
   "source": [
    "### TF-IDF"
   ]
  },
  {
   "cell_type": "code",
   "execution_count": 11,
   "id": "6ebdefd2",
   "metadata": {},
   "outputs": [],
   "source": [
    "raw_data=wikipedia.summary(\"Indian\",4)"
   ]
  },
  {
   "cell_type": "code",
   "execution_count": 12,
   "id": "494fd8a5",
   "metadata": {},
   "outputs": [
    {
     "data": {
      "text/plain": [
       "\"India, officially the Republic of India (ISO: Bhārat Gaṇarājya), is a country in South Asia.  It is the seventh-largest country by area; the most populous country as of June 2023; and from the time of its independence in 1947, the world's most populous democracy. Bounded by the Indian Ocean on the south, the Arabian Sea on the southwest, and the Bay of Bengal on the southeast, it shares land borders with Pakistan to the west; China, Nepal, and Bhutan to the north; and Bangladesh and Myanmar to the east. In the Indian Ocean, India is in the vicinity of Sri Lanka and the Maldives; its Andaman and Nicobar Islands share a maritime border with Thailand, Myanmar, and Indonesia.\""
      ]
     },
     "execution_count": 12,
     "metadata": {},
     "output_type": "execute_result"
    }
   ],
   "source": [
    "raw_data"
   ]
  },
  {
   "cell_type": "code",
   "execution_count": 13,
   "id": "0d54a8a2",
   "metadata": {},
   "outputs": [],
   "source": [
    "import nltk"
   ]
  },
  {
   "cell_type": "code",
   "execution_count": 20,
   "id": "56e309ce",
   "metadata": {},
   "outputs": [],
   "source": [
    "#nltk.download('punkt')"
   ]
  },
  {
   "cell_type": "code",
   "execution_count": 16,
   "id": "29fa78ac",
   "metadata": {},
   "outputs": [],
   "source": [
    "#dir(nltk)"
   ]
  },
  {
   "cell_type": "code",
   "execution_count": 21,
   "id": "b4d5cf6e",
   "metadata": {},
   "outputs": [],
   "source": [
    "from nltk.tokenize import sent_tokenize,word_tokenize"
   ]
  },
  {
   "cell_type": "code",
   "execution_count": 24,
   "id": "11b80006",
   "metadata": {},
   "outputs": [],
   "source": [
    "#sent_token=sent_tokenize(raw_data)"
   ]
  },
  {
   "cell_type": "code",
   "execution_count": 23,
   "id": "41c11bdc",
   "metadata": {},
   "outputs": [
    {
     "data": {
      "text/plain": [
       "['India, officially the Republic of India (ISO: Bhārat Gaṇarājya), is a country in South Asia.',\n",
       " \"It is the seventh-largest country by area; the most populous country as of June 2023; and from the time of its independence in 1947, the world's most populous democracy.\",\n",
       " 'Bounded by the Indian Ocean on the south, the Arabian Sea on the southwest, and the Bay of Bengal on the southeast, it shares land borders with Pakistan to the west; China, Nepal, and Bhutan to the north; and Bangladesh and Myanmar to the east.',\n",
       " 'In the Indian Ocean, India is in the vicinity of Sri Lanka and the Maldives; its Andaman and Nicobar Islands share a maritime border with Thailand, Myanmar, and Indonesia.']"
      ]
     },
     "execution_count": 23,
     "metadata": {},
     "output_type": "execute_result"
    }
   ],
   "source": [
    "sent_token"
   ]
  },
  {
   "cell_type": "code",
   "execution_count": 25,
   "id": "8dae82e3",
   "metadata": {},
   "outputs": [],
   "source": [
    "word_token=word_tokenize(raw_data)"
   ]
  },
  {
   "cell_type": "code",
   "execution_count": 27,
   "id": "a1914210",
   "metadata": {},
   "outputs": [
    {
     "data": {
      "text/plain": [
       "142"
      ]
     },
     "execution_count": 27,
     "metadata": {},
     "output_type": "execute_result"
    }
   ],
   "source": [
    "len(word_token)"
   ]
  },
  {
   "cell_type": "code",
   "execution_count": 31,
   "id": "6216a742",
   "metadata": {},
   "outputs": [],
   "source": [
    "from sklearn.feature_extraction.text import TfidfVectorizer"
   ]
  },
  {
   "cell_type": "code",
   "execution_count": 48,
   "id": "5335b0bd",
   "metadata": {},
   "outputs": [],
   "source": [
    "tf_vec=TfidfVectorizer()"
   ]
  },
  {
   "cell_type": "code",
   "execution_count": 49,
   "id": "a19f999a",
   "metadata": {},
   "outputs": [],
   "source": [
    "#dir(tf_vec)"
   ]
  },
  {
   "cell_type": "code",
   "execution_count": 60,
   "id": "6b8282c2",
   "metadata": {},
   "outputs": [],
   "source": [
    "tfidf_data=tf_vec.fit_transform(sent_token)"
   ]
  },
  {
   "cell_type": "code",
   "execution_count": 61,
   "id": "9d7abede",
   "metadata": {},
   "outputs": [
    {
     "data": {
      "text/plain": [
       "array(['1947', '2023', 'and', 'andaman', 'arabian', 'area', 'as', 'asia',\n",
       "       'bangladesh', 'bay', 'bengal', 'bhutan', 'bhārat', 'border',\n",
       "       'borders', 'bounded', 'by', 'china', 'country', 'democracy',\n",
       "       'east', 'from', 'gaṇarājya', 'in', 'independence', 'india',\n",
       "       'indian', 'indonesia', 'is', 'islands', 'iso', 'it', 'its', 'june',\n",
       "       'land', 'lanka', 'largest', 'maldives', 'maritime', 'most',\n",
       "       'myanmar', 'nepal', 'nicobar', 'north', 'ocean', 'of',\n",
       "       'officially', 'on', 'pakistan', 'populous', 'republic', 'sea',\n",
       "       'seventh', 'share', 'shares', 'south', 'southeast', 'southwest',\n",
       "       'sri', 'thailand', 'the', 'time', 'to', 'vicinity', 'west', 'with',\n",
       "       'world'], dtype=object)"
      ]
     },
     "execution_count": 61,
     "metadata": {},
     "output_type": "execute_result"
    }
   ],
   "source": [
    "tf_vec.get_feature_names_out()"
   ]
  },
  {
   "cell_type": "code",
   "execution_count": 63,
   "id": "ae6c1d41",
   "metadata": {},
   "outputs": [
    {
     "data": {
      "text/plain": [
       "array([[0.        , 0.        , 0.        , 0.        , 0.        ,\n",
       "        0.        , 0.        , 0.30029876, 0.        , 0.        ,\n",
       "        0.        , 0.        , 0.30029876, 0.        , 0.        ,\n",
       "        0.        , 0.        , 0.        , 0.23675899, 0.        ,\n",
       "        0.        , 0.        , 0.30029876, 0.19167681, 0.        ,\n",
       "        0.47351798, 0.        , 0.        , 0.19167681, 0.        ,\n",
       "        0.30029876, 0.        , 0.        , 0.        , 0.        ,\n",
       "        0.        , 0.        , 0.        , 0.        , 0.        ,\n",
       "        0.        , 0.        , 0.        , 0.        , 0.        ,\n",
       "        0.15670835, 0.30029876, 0.        , 0.        , 0.        ,\n",
       "        0.30029876, 0.        , 0.        , 0.        , 0.        ,\n",
       "        0.23675899, 0.        , 0.        , 0.        , 0.        ,\n",
       "        0.15670835, 0.        , 0.        , 0.        , 0.        ,\n",
       "        0.        , 0.        ],\n",
       "       [0.17954812, 0.17954812, 0.11460324, 0.        , 0.        ,\n",
       "        0.17954812, 0.17954812, 0.        , 0.        , 0.        ,\n",
       "        0.        , 0.        , 0.        , 0.        , 0.        ,\n",
       "        0.        , 0.1415578 , 0.        , 0.28311559, 0.17954812,\n",
       "        0.        , 0.17954812, 0.        , 0.11460324, 0.17954812,\n",
       "        0.        , 0.        , 0.        , 0.11460324, 0.        ,\n",
       "        0.        , 0.1415578 , 0.1415578 , 0.17954812, 0.        ,\n",
       "        0.        , 0.17954812, 0.        , 0.        , 0.35909623,\n",
       "        0.        , 0.        , 0.        , 0.        , 0.        ,\n",
       "        0.18739131, 0.        , 0.        , 0.        , 0.35909623,\n",
       "        0.        , 0.        , 0.17954812, 0.        , 0.        ,\n",
       "        0.        , 0.        , 0.        , 0.        , 0.        ,\n",
       "        0.37478262, 0.17954812, 0.        , 0.        , 0.        ,\n",
       "        0.        , 0.17954812],\n",
       "       [0.        , 0.        , 0.3069188 , 0.        , 0.1202119 ,\n",
       "        0.        , 0.        , 0.        , 0.1202119 , 0.1202119 ,\n",
       "        0.1202119 , 0.1202119 , 0.        , 0.        , 0.1202119 ,\n",
       "        0.1202119 , 0.09477645, 0.1202119 , 0.        , 0.        ,\n",
       "        0.1202119 , 0.        , 0.        , 0.        , 0.        ,\n",
       "        0.        , 0.09477645, 0.        , 0.        , 0.        ,\n",
       "        0.        , 0.09477645, 0.        , 0.        , 0.1202119 ,\n",
       "        0.        , 0.        , 0.        , 0.        , 0.        ,\n",
       "        0.09477645, 0.1202119 , 0.        , 0.1202119 , 0.09477645,\n",
       "        0.06273156, 0.        , 0.36063571, 0.1202119 , 0.        ,\n",
       "        0.        , 0.1202119 , 0.        , 0.        , 0.1202119 ,\n",
       "        0.09477645, 0.1202119 , 0.1202119 , 0.        , 0.        ,\n",
       "        0.56458402, 0.        , 0.36063571, 0.        , 0.1202119 ,\n",
       "        0.09477645, 0.        ],\n",
       "       [0.        , 0.        , 0.38960131, 0.20346191, 0.        ,\n",
       "        0.        , 0.        , 0.        , 0.        , 0.        ,\n",
       "        0.        , 0.        , 0.        , 0.20346191, 0.        ,\n",
       "        0.        , 0.        , 0.        , 0.        , 0.        ,\n",
       "        0.        , 0.        , 0.        , 0.2597342 , 0.        ,\n",
       "        0.16041171, 0.16041171, 0.20346191, 0.1298671 , 0.20346191,\n",
       "        0.        , 0.        , 0.16041171, 0.        , 0.        ,\n",
       "        0.20346191, 0.        , 0.20346191, 0.20346191, 0.        ,\n",
       "        0.16041171, 0.        , 0.20346191, 0.        , 0.16041171,\n",
       "        0.10617487, 0.        , 0.        , 0.        , 0.        ,\n",
       "        0.        , 0.        , 0.        , 0.20346191, 0.        ,\n",
       "        0.        , 0.        , 0.        , 0.20346191, 0.20346191,\n",
       "        0.3185246 , 0.        , 0.        , 0.20346191, 0.        ,\n",
       "        0.16041171, 0.        ]])"
      ]
     },
     "execution_count": 63,
     "metadata": {},
     "output_type": "execute_result"
    }
   ],
   "source": [
    "tfidf_data.toarray()"
   ]
  },
  {
   "cell_type": "code",
   "execution_count": null,
   "id": "dda28d14",
   "metadata": {},
   "outputs": [],
   "source": []
  }
 ],
 "metadata": {
  "kernelspec": {
   "display_name": "Python 3 (ipykernel)",
   "language": "python",
   "name": "python3"
  },
  "language_info": {
   "codemirror_mode": {
    "name": "ipython",
    "version": 3
   },
   "file_extension": ".py",
   "mimetype": "text/x-python",
   "name": "python",
   "nbconvert_exporter": "python",
   "pygments_lexer": "ipython3",
   "version": "3.11.3"
  }
 },
 "nbformat": 4,
 "nbformat_minor": 5
}
