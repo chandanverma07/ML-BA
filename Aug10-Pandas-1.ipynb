{
 "cells": [
  {
   "cell_type": "markdown",
   "id": "79021d7c",
   "metadata": {},
   "source": [
    "### Pandas Package"
   ]
  },
  {
   "cell_type": "code",
   "execution_count": 4,
   "id": "ebe61312",
   "metadata": {},
   "outputs": [],
   "source": [
    "import pandas as pd"
   ]
  },
  {
   "cell_type": "raw",
   "id": "a5f3f5e4",
   "metadata": {},
   "source": [
    "1.Series\n",
    "2.Data Frame \n",
    "3.Panel"
   ]
  },
  {
   "cell_type": "markdown",
   "id": "0cf214ab",
   "metadata": {},
   "source": [
    "### Series \n",
    "###### One D Array (List+Index)"
   ]
  },
  {
   "cell_type": "code",
   "execution_count": 7,
   "id": "8ecb33a3",
   "metadata": {},
   "outputs": [],
   "source": [
    "#ls"
   ]
  },
  {
   "cell_type": "code",
   "execution_count": 8,
   "id": "8908ad79",
   "metadata": {},
   "outputs": [],
   "source": [
    "list_name=[\"Chandan\",\"Aman\",\"Bhawana\"]"
   ]
  },
  {
   "cell_type": "code",
   "execution_count": 21,
   "id": "3094dd0d",
   "metadata": {},
   "outputs": [],
   "source": [
    "s1=pd.Series(list_name,index=[\"one\",\"two\",\"three\"])"
   ]
  },
  {
   "cell_type": "code",
   "execution_count": 22,
   "id": "983c4680",
   "metadata": {},
   "outputs": [
    {
     "data": {
      "text/plain": [
       "one      Chandan\n",
       "two         Aman\n",
       "three    Bhawana\n",
       "dtype: object"
      ]
     },
     "execution_count": 22,
     "metadata": {},
     "output_type": "execute_result"
    }
   ],
   "source": [
    "s1"
   ]
  },
  {
   "cell_type": "code",
   "execution_count": 23,
   "id": "f93433f7",
   "metadata": {},
   "outputs": [
    {
     "data": {
      "text/plain": [
       "1"
      ]
     },
     "execution_count": 23,
     "metadata": {},
     "output_type": "execute_result"
    }
   ],
   "source": [
    "s1.ndim"
   ]
  },
  {
   "cell_type": "code",
   "execution_count": 24,
   "id": "08167578",
   "metadata": {},
   "outputs": [
    {
     "data": {
      "text/plain": [
       "3"
      ]
     },
     "execution_count": 24,
     "metadata": {},
     "output_type": "execute_result"
    }
   ],
   "source": [
    "len(s1)"
   ]
  },
  {
   "cell_type": "code",
   "execution_count": 25,
   "id": "2727c268",
   "metadata": {},
   "outputs": [
    {
     "name": "stdout",
     "output_type": "stream",
     "text": [
      "list of all the method avialble in to pandas series 423\n"
     ]
    }
   ],
   "source": [
    "print(f\"list of all the method avialble in to pandas series {len(dir(s1))}\")"
   ]
  },
  {
   "cell_type": "code",
   "execution_count": 26,
   "id": "efe3ae8d",
   "metadata": {},
   "outputs": [],
   "source": [
    "#dir(s1)"
   ]
  },
  {
   "cell_type": "code",
   "execution_count": 27,
   "id": "40719c6e",
   "metadata": {},
   "outputs": [
    {
     "data": {
      "text/plain": [
       "Index(['one', 'two', 'three'], dtype='object')"
      ]
     },
     "execution_count": 27,
     "metadata": {},
     "output_type": "execute_result"
    }
   ],
   "source": [
    "s1.index"
   ]
  },
  {
   "cell_type": "code",
   "execution_count": 20,
   "id": "082afd7a",
   "metadata": {},
   "outputs": [
    {
     "data": {
      "text/plain": [
       "array(['Chandan', 'Aman', 'Bhawana'], dtype=object)"
      ]
     },
     "execution_count": 20,
     "metadata": {},
     "output_type": "execute_result"
    }
   ],
   "source": [
    "s1.values"
   ]
  },
  {
   "cell_type": "markdown",
   "id": "84366cb4",
   "metadata": {},
   "source": [
    "### Data Frame"
   ]
  },
  {
   "cell_type": "code",
   "execution_count": 28,
   "id": "fd51696f",
   "metadata": {},
   "outputs": [],
   "source": [
    "my_deatis={\"Name\":list_name,\"Marks\":[20,30,40]}"
   ]
  },
  {
   "cell_type": "code",
   "execution_count": 29,
   "id": "902d679b",
   "metadata": {},
   "outputs": [
    {
     "data": {
      "text/plain": [
       "{'Name': ['Chandan', 'Aman', 'Bhawana'], 'Marks': [20, 30, 40]}"
      ]
     },
     "execution_count": 29,
     "metadata": {},
     "output_type": "execute_result"
    }
   ],
   "source": [
    "my_deatis"
   ]
  },
  {
   "cell_type": "code",
   "execution_count": 30,
   "id": "ed83c438",
   "metadata": {},
   "outputs": [
    {
     "data": {
      "text/plain": [
       "dict"
      ]
     },
     "execution_count": 30,
     "metadata": {},
     "output_type": "execute_result"
    }
   ],
   "source": [
    "type(my_deatis)"
   ]
  },
  {
   "cell_type": "code",
   "execution_count": 31,
   "id": "d2f30eec",
   "metadata": {},
   "outputs": [
    {
     "data": {
      "text/plain": [
       "2"
      ]
     },
     "execution_count": 31,
     "metadata": {},
     "output_type": "execute_result"
    }
   ],
   "source": [
    "len(my_deatis)"
   ]
  },
  {
   "cell_type": "code",
   "execution_count": 33,
   "id": "d4ea2443",
   "metadata": {},
   "outputs": [
    {
     "data": {
      "text/plain": [
       "dict_keys(['Name', 'Marks'])"
      ]
     },
     "execution_count": 33,
     "metadata": {},
     "output_type": "execute_result"
    }
   ],
   "source": [
    "my_deatis.keys()"
   ]
  },
  {
   "cell_type": "code",
   "execution_count": 35,
   "id": "bdee44d0",
   "metadata": {},
   "outputs": [
    {
     "data": {
      "text/plain": [
       "dict_values([['Chandan', 'Aman', 'Bhawana'], [20, 30, 40]])"
      ]
     },
     "execution_count": 35,
     "metadata": {},
     "output_type": "execute_result"
    }
   ],
   "source": [
    "my_deatis.values()"
   ]
  },
  {
   "cell_type": "code",
   "execution_count": 38,
   "id": "20c8c552",
   "metadata": {},
   "outputs": [],
   "source": [
    "#my_deatis.ndim"
   ]
  },
  {
   "cell_type": "code",
   "execution_count": 39,
   "id": "e9db7ac4",
   "metadata": {},
   "outputs": [],
   "source": [
    "df=pd.DataFrame(my_deatis)"
   ]
  },
  {
   "cell_type": "code",
   "execution_count": 40,
   "id": "c09ed47e",
   "metadata": {},
   "outputs": [
    {
     "data": {
      "text/html": [
       "<div>\n",
       "<style scoped>\n",
       "    .dataframe tbody tr th:only-of-type {\n",
       "        vertical-align: middle;\n",
       "    }\n",
       "\n",
       "    .dataframe tbody tr th {\n",
       "        vertical-align: top;\n",
       "    }\n",
       "\n",
       "    .dataframe thead th {\n",
       "        text-align: right;\n",
       "    }\n",
       "</style>\n",
       "<table border=\"1\" class=\"dataframe\">\n",
       "  <thead>\n",
       "    <tr style=\"text-align: right;\">\n",
       "      <th></th>\n",
       "      <th>Name</th>\n",
       "      <th>Marks</th>\n",
       "    </tr>\n",
       "  </thead>\n",
       "  <tbody>\n",
       "    <tr>\n",
       "      <th>0</th>\n",
       "      <td>Chandan</td>\n",
       "      <td>20</td>\n",
       "    </tr>\n",
       "    <tr>\n",
       "      <th>1</th>\n",
       "      <td>Aman</td>\n",
       "      <td>30</td>\n",
       "    </tr>\n",
       "    <tr>\n",
       "      <th>2</th>\n",
       "      <td>Bhawana</td>\n",
       "      <td>40</td>\n",
       "    </tr>\n",
       "  </tbody>\n",
       "</table>\n",
       "</div>"
      ],
      "text/plain": [
       "      Name  Marks\n",
       "0  Chandan     20\n",
       "1     Aman     30\n",
       "2  Bhawana     40"
      ]
     },
     "execution_count": 40,
     "metadata": {},
     "output_type": "execute_result"
    }
   ],
   "source": [
    "df"
   ]
  },
  {
   "cell_type": "code",
   "execution_count": 41,
   "id": "18f5984c",
   "metadata": {},
   "outputs": [
    {
     "data": {
      "text/plain": [
       "2"
      ]
     },
     "execution_count": 41,
     "metadata": {},
     "output_type": "execute_result"
    }
   ],
   "source": [
    "df.ndim"
   ]
  },
  {
   "cell_type": "code",
   "execution_count": 42,
   "id": "5098246e",
   "metadata": {},
   "outputs": [
    {
     "data": {
      "text/plain": [
       "0    Chandan\n",
       "1       Aman\n",
       "2    Bhawana\n",
       "Name: Name, dtype: object"
      ]
     },
     "execution_count": 42,
     "metadata": {},
     "output_type": "execute_result"
    }
   ],
   "source": [
    "df.Name"
   ]
  },
  {
   "cell_type": "code",
   "execution_count": 43,
   "id": "9a7b303f",
   "metadata": {},
   "outputs": [
    {
     "data": {
      "text/plain": [
       "0    20\n",
       "1    30\n",
       "2    40\n",
       "Name: Marks, dtype: int64"
      ]
     },
     "execution_count": 43,
     "metadata": {},
     "output_type": "execute_result"
    }
   ],
   "source": [
    "df.Marks"
   ]
  },
  {
   "cell_type": "code",
   "execution_count": 44,
   "id": "fcb639a8",
   "metadata": {},
   "outputs": [
    {
     "data": {
      "text/plain": [
       "40"
      ]
     },
     "execution_count": 44,
     "metadata": {},
     "output_type": "execute_result"
    }
   ],
   "source": [
    "df[\"Marks\"].max()"
   ]
  },
  {
   "cell_type": "code",
   "execution_count": 45,
   "id": "a0f2fbf1",
   "metadata": {},
   "outputs": [
    {
     "data": {
      "text/plain": [
       "30.0"
      ]
     },
     "execution_count": 45,
     "metadata": {},
     "output_type": "execute_result"
    }
   ],
   "source": [
    "df[\"Marks\"].mean()"
   ]
  },
  {
   "cell_type": "code",
   "execution_count": 46,
   "id": "9b833629",
   "metadata": {},
   "outputs": [
    {
     "data": {
      "text/plain": [
       "10.0"
      ]
     },
     "execution_count": 46,
     "metadata": {},
     "output_type": "execute_result"
    }
   ],
   "source": [
    "df[\"Marks\"].std()"
   ]
  },
  {
   "cell_type": "markdown",
   "id": "ca2206fa",
   "metadata": {},
   "source": [
    "### Import the File "
   ]
  },
  {
   "cell_type": "code",
   "execution_count": 58,
   "id": "41df9638",
   "metadata": {},
   "outputs": [],
   "source": [
    "#ls"
   ]
  },
  {
   "cell_type": "code",
   "execution_count": 54,
   "id": "16803393",
   "metadata": {},
   "outputs": [],
   "source": [
    "data_file=pd.read_csv(\"v3_Latest_Data_Science_Salaries.csv\")\n",
    "data_bank=pd.read_csv(r\"C:\\Users\\Lenovo\\OneDrive\\Desktop\\Ml_Data\\Data-BA\\threads_reviews.csv\")"
   ]
  },
  {
   "cell_type": "code",
   "execution_count": 55,
   "id": "716aca0d",
   "metadata": {},
   "outputs": [],
   "source": [
    "#data_file"
   ]
  },
  {
   "cell_type": "code",
   "execution_count": 57,
   "id": "dc4b71c4",
   "metadata": {},
   "outputs": [],
   "source": [
    "#data_bank"
   ]
  },
  {
   "cell_type": "code",
   "execution_count": 60,
   "id": "6e5f78a7",
   "metadata": {},
   "outputs": [
    {
     "data": {
      "text/plain": [
       "Index(['Job Title', 'Employment Type', 'Experience Level', 'Expertise Level',\n",
       "       'Salary', 'Salary Currency', 'Company Location', 'Salary in USD',\n",
       "       'Employee Residence', 'Company Size', 'Year'],\n",
       "      dtype='object')"
      ]
     },
     "execution_count": 60,
     "metadata": {},
     "output_type": "execute_result"
    }
   ],
   "source": [
    "data_file.columns"
   ]
  },
  {
   "cell_type": "code",
   "execution_count": 62,
   "id": "ec2b1fce",
   "metadata": {},
   "outputs": [
    {
     "data": {
      "text/plain": [
       "Index(['Job Title', 'Employment Type', 'Experience Level', 'Expertise Level',\n",
       "       'Salary', 'Salary Currency', 'Company Location', 'Salary in USD',\n",
       "       'Employee Residence', 'Company Size', 'Year'],\n",
       "      dtype='object')"
      ]
     },
     "execution_count": 62,
     "metadata": {},
     "output_type": "execute_result"
    }
   ],
   "source": [
    "data_file.keys()"
   ]
  },
  {
   "cell_type": "code",
   "execution_count": 72,
   "id": "479f9984",
   "metadata": {},
   "outputs": [
    {
     "data": {
      "text/html": [
       "<div>\n",
       "<style scoped>\n",
       "    .dataframe tbody tr th:only-of-type {\n",
       "        vertical-align: middle;\n",
       "    }\n",
       "\n",
       "    .dataframe tbody tr th {\n",
       "        vertical-align: top;\n",
       "    }\n",
       "\n",
       "    .dataframe thead th {\n",
       "        text-align: right;\n",
       "    }\n",
       "</style>\n",
       "<table border=\"1\" class=\"dataframe\">\n",
       "  <thead>\n",
       "    <tr style=\"text-align: right;\">\n",
       "      <th></th>\n",
       "      <th>Job Title</th>\n",
       "      <th>Employment Type</th>\n",
       "      <th>Experience Level</th>\n",
       "      <th>Expertise Level</th>\n",
       "      <th>Salary</th>\n",
       "      <th>Salary Currency</th>\n",
       "      <th>Company Location</th>\n",
       "      <th>Salary in USD</th>\n",
       "      <th>Employee Residence</th>\n",
       "      <th>Company Size</th>\n",
       "      <th>Year</th>\n",
       "    </tr>\n",
       "  </thead>\n",
       "  <tbody>\n",
       "    <tr>\n",
       "      <th>0</th>\n",
       "      <td>Data Scientist</td>\n",
       "      <td>Full-Time</td>\n",
       "      <td>Senior</td>\n",
       "      <td>Expert</td>\n",
       "      <td>265000</td>\n",
       "      <td>United States Dollar</td>\n",
       "      <td>United States</td>\n",
       "      <td>265000</td>\n",
       "      <td>United States</td>\n",
       "      <td>Medium</td>\n",
       "      <td>2023</td>\n",
       "    </tr>\n",
       "  </tbody>\n",
       "</table>\n",
       "</div>"
      ],
      "text/plain": [
       "        Job Title Employment Type Experience Level Expertise Level  Salary  \\\n",
       "0  Data Scientist       Full-Time           Senior          Expert  265000   \n",
       "\n",
       "        Salary Currency Company Location  Salary in USD Employee Residence  \\\n",
       "0  United States Dollar    United States         265000      United States   \n",
       "\n",
       "  Company Size  Year  \n",
       "0       Medium  2023  "
      ]
     },
     "execution_count": 72,
     "metadata": {},
     "output_type": "execute_result"
    }
   ],
   "source": [
    "data_file.head(1)"
   ]
  },
  {
   "cell_type": "code",
   "execution_count": 73,
   "id": "9d0b23a5",
   "metadata": {},
   "outputs": [],
   "source": [
    "#data_file.tail()"
   ]
  },
  {
   "cell_type": "code",
   "execution_count": 74,
   "id": "31deb3e4",
   "metadata": {},
   "outputs": [],
   "source": [
    "#data_file.sample(n=5)"
   ]
  },
  {
   "cell_type": "code",
   "execution_count": 80,
   "id": "fdf0cd85",
   "metadata": {},
   "outputs": [],
   "source": [
    "#type(data_file)\n",
    "#len(data_file)\n",
    "#data_file.shape\n",
    "#data_file.ndim"
   ]
  },
  {
   "cell_type": "code",
   "execution_count": 81,
   "id": "99cc6385",
   "metadata": {},
   "outputs": [
    {
     "data": {
      "text/plain": [
       "Job Title             object\n",
       "Employment Type       object\n",
       "Experience Level      object\n",
       "Expertise Level       object\n",
       "Salary                 int64\n",
       "Salary Currency       object\n",
       "Company Location      object\n",
       "Salary in USD          int64\n",
       "Employee Residence    object\n",
       "Company Size          object\n",
       "Year                   int64\n",
       "dtype: object"
      ]
     },
     "execution_count": 81,
     "metadata": {},
     "output_type": "execute_result"
    }
   ],
   "source": [
    "data_file.dtypes"
   ]
  },
  {
   "cell_type": "code",
   "execution_count": 82,
   "id": "b4f43322",
   "metadata": {},
   "outputs": [
    {
     "data": {
      "text/html": [
       "<div>\n",
       "<style scoped>\n",
       "    .dataframe tbody tr th:only-of-type {\n",
       "        vertical-align: middle;\n",
       "    }\n",
       "\n",
       "    .dataframe tbody tr th {\n",
       "        vertical-align: top;\n",
       "    }\n",
       "\n",
       "    .dataframe thead th {\n",
       "        text-align: right;\n",
       "    }\n",
       "</style>\n",
       "<table border=\"1\" class=\"dataframe\">\n",
       "  <thead>\n",
       "    <tr style=\"text-align: right;\">\n",
       "      <th></th>\n",
       "      <th>Salary</th>\n",
       "      <th>Salary in USD</th>\n",
       "      <th>Year</th>\n",
       "    </tr>\n",
       "  </thead>\n",
       "  <tbody>\n",
       "    <tr>\n",
       "      <th>count</th>\n",
       "      <td>3.552000e+03</td>\n",
       "      <td>3552.000000</td>\n",
       "      <td>3552.000000</td>\n",
       "    </tr>\n",
       "    <tr>\n",
       "      <th>mean</th>\n",
       "      <td>2.011230e+05</td>\n",
       "      <td>142209.308559</td>\n",
       "      <td>2022.530687</td>\n",
       "    </tr>\n",
       "    <tr>\n",
       "      <th>std</th>\n",
       "      <td>7.035735e+05</td>\n",
       "      <td>68534.614790</td>\n",
       "      <td>0.702543</td>\n",
       "    </tr>\n",
       "    <tr>\n",
       "      <th>min</th>\n",
       "      <td>1.400000e+04</td>\n",
       "      <td>15000.000000</td>\n",
       "      <td>2020.000000</td>\n",
       "    </tr>\n",
       "    <tr>\n",
       "      <th>25%</th>\n",
       "      <td>9.440000e+04</td>\n",
       "      <td>91000.000000</td>\n",
       "      <td>2022.000000</td>\n",
       "    </tr>\n",
       "    <tr>\n",
       "      <th>50%</th>\n",
       "      <td>1.400000e+05</td>\n",
       "      <td>136000.000000</td>\n",
       "      <td>2023.000000</td>\n",
       "    </tr>\n",
       "    <tr>\n",
       "      <th>75%</th>\n",
       "      <td>1.900000e+05</td>\n",
       "      <td>185000.000000</td>\n",
       "      <td>2023.000000</td>\n",
       "    </tr>\n",
       "    <tr>\n",
       "      <th>max</th>\n",
       "      <td>3.040000e+07</td>\n",
       "      <td>450000.000000</td>\n",
       "      <td>2023.000000</td>\n",
       "    </tr>\n",
       "  </tbody>\n",
       "</table>\n",
       "</div>"
      ],
      "text/plain": [
       "             Salary  Salary in USD         Year\n",
       "count  3.552000e+03    3552.000000  3552.000000\n",
       "mean   2.011230e+05  142209.308559  2022.530687\n",
       "std    7.035735e+05   68534.614790     0.702543\n",
       "min    1.400000e+04   15000.000000  2020.000000\n",
       "25%    9.440000e+04   91000.000000  2022.000000\n",
       "50%    1.400000e+05  136000.000000  2023.000000\n",
       "75%    1.900000e+05  185000.000000  2023.000000\n",
       "max    3.040000e+07  450000.000000  2023.000000"
      ]
     },
     "execution_count": 82,
     "metadata": {},
     "output_type": "execute_result"
    }
   ],
   "source": [
    "data_file.describe()"
   ]
  },
  {
   "cell_type": "code",
   "execution_count": 83,
   "id": "b33f9744",
   "metadata": {},
   "outputs": [
    {
     "name": "stdout",
     "output_type": "stream",
     "text": [
      "<class 'pandas.core.frame.DataFrame'>\n",
      "RangeIndex: 3552 entries, 0 to 3551\n",
      "Data columns (total 11 columns):\n",
      " #   Column              Non-Null Count  Dtype \n",
      "---  ------              --------------  ----- \n",
      " 0   Job Title           3552 non-null   object\n",
      " 1   Employment Type     3552 non-null   object\n",
      " 2   Experience Level    3552 non-null   object\n",
      " 3   Expertise Level     3552 non-null   object\n",
      " 4   Salary              3552 non-null   int64 \n",
      " 5   Salary Currency     3552 non-null   object\n",
      " 6   Company Location    3552 non-null   object\n",
      " 7   Salary in USD       3552 non-null   int64 \n",
      " 8   Employee Residence  3552 non-null   object\n",
      " 9   Company Size        3552 non-null   object\n",
      " 10  Year                3552 non-null   int64 \n",
      "dtypes: int64(3), object(8)\n",
      "memory usage: 305.4+ KB\n"
     ]
    }
   ],
   "source": [
    "data_file.info()"
   ]
  },
  {
   "cell_type": "code",
   "execution_count": 85,
   "id": "4edff673",
   "metadata": {},
   "outputs": [
    {
     "data": {
      "text/html": [
       "<div>\n",
       "<style scoped>\n",
       "    .dataframe tbody tr th:only-of-type {\n",
       "        vertical-align: middle;\n",
       "    }\n",
       "\n",
       "    .dataframe tbody tr th {\n",
       "        vertical-align: top;\n",
       "    }\n",
       "\n",
       "    .dataframe thead th {\n",
       "        text-align: right;\n",
       "    }\n",
       "</style>\n",
       "<table border=\"1\" class=\"dataframe\">\n",
       "  <thead>\n",
       "    <tr style=\"text-align: right;\">\n",
       "      <th></th>\n",
       "      <th>Job Title</th>\n",
       "      <th>Employment Type</th>\n",
       "      <th>Experience Level</th>\n",
       "      <th>Expertise Level</th>\n",
       "      <th>Salary</th>\n",
       "      <th>Salary Currency</th>\n",
       "      <th>Company Location</th>\n",
       "      <th>Salary in USD</th>\n",
       "      <th>Employee Residence</th>\n",
       "      <th>Company Size</th>\n",
       "      <th>Year</th>\n",
       "    </tr>\n",
       "  </thead>\n",
       "  <tbody>\n",
       "    <tr>\n",
       "      <th>0</th>\n",
       "      <td>Data Scientist</td>\n",
       "      <td>Full-Time</td>\n",
       "      <td>Senior</td>\n",
       "      <td>Expert</td>\n",
       "      <td>265000</td>\n",
       "      <td>United States Dollar</td>\n",
       "      <td>United States</td>\n",
       "      <td>265000</td>\n",
       "      <td>United States</td>\n",
       "      <td>Medium</td>\n",
       "      <td>2023</td>\n",
       "    </tr>\n",
       "  </tbody>\n",
       "</table>\n",
       "</div>"
      ],
      "text/plain": [
       "        Job Title Employment Type Experience Level Expertise Level  Salary  \\\n",
       "0  Data Scientist       Full-Time           Senior          Expert  265000   \n",
       "\n",
       "        Salary Currency Company Location  Salary in USD Employee Residence  \\\n",
       "0  United States Dollar    United States         265000      United States   \n",
       "\n",
       "  Company Size  Year  \n",
       "0       Medium  2023  "
      ]
     },
     "execution_count": 85,
     "metadata": {},
     "output_type": "execute_result"
    }
   ],
   "source": [
    "data_file.head(1)"
   ]
  },
  {
   "cell_type": "code",
   "execution_count": 88,
   "id": "165b3aad",
   "metadata": {},
   "outputs": [],
   "source": [
    "job_empl_type=data_file[[\"Job Title\",\"Employment Type\"]]"
   ]
  },
  {
   "cell_type": "code",
   "execution_count": 89,
   "id": "b4e41b5c",
   "metadata": {},
   "outputs": [
    {
     "data": {
      "text/html": [
       "<div>\n",
       "<style scoped>\n",
       "    .dataframe tbody tr th:only-of-type {\n",
       "        vertical-align: middle;\n",
       "    }\n",
       "\n",
       "    .dataframe tbody tr th {\n",
       "        vertical-align: top;\n",
       "    }\n",
       "\n",
       "    .dataframe thead th {\n",
       "        text-align: right;\n",
       "    }\n",
       "</style>\n",
       "<table border=\"1\" class=\"dataframe\">\n",
       "  <thead>\n",
       "    <tr style=\"text-align: right;\">\n",
       "      <th></th>\n",
       "      <th>Job Title</th>\n",
       "      <th>Employment Type</th>\n",
       "    </tr>\n",
       "  </thead>\n",
       "  <tbody>\n",
       "    <tr>\n",
       "      <th>0</th>\n",
       "      <td>Data Scientist</td>\n",
       "      <td>Full-Time</td>\n",
       "    </tr>\n",
       "    <tr>\n",
       "      <th>1</th>\n",
       "      <td>Data Scientist</td>\n",
       "      <td>Full-Time</td>\n",
       "    </tr>\n",
       "    <tr>\n",
       "      <th>2</th>\n",
       "      <td>Machine Learning Engineer</td>\n",
       "      <td>Full-Time</td>\n",
       "    </tr>\n",
       "    <tr>\n",
       "      <th>3</th>\n",
       "      <td>Machine Learning Engineer</td>\n",
       "      <td>Full-Time</td>\n",
       "    </tr>\n",
       "    <tr>\n",
       "      <th>4</th>\n",
       "      <td>Data Scientist</td>\n",
       "      <td>Full-Time</td>\n",
       "    </tr>\n",
       "    <tr>\n",
       "      <th>...</th>\n",
       "      <td>...</td>\n",
       "      <td>...</td>\n",
       "    </tr>\n",
       "    <tr>\n",
       "      <th>3547</th>\n",
       "      <td>Data Scientist</td>\n",
       "      <td>Full-Time</td>\n",
       "    </tr>\n",
       "    <tr>\n",
       "      <th>3548</th>\n",
       "      <td>Principal Data Scientist</td>\n",
       "      <td>Full-Time</td>\n",
       "    </tr>\n",
       "    <tr>\n",
       "      <th>3549</th>\n",
       "      <td>Data Scientist</td>\n",
       "      <td>Full-Time</td>\n",
       "    </tr>\n",
       "    <tr>\n",
       "      <th>3550</th>\n",
       "      <td>Business Data Analyst</td>\n",
       "      <td>Contract</td>\n",
       "    </tr>\n",
       "    <tr>\n",
       "      <th>3551</th>\n",
       "      <td>Data Science Manager</td>\n",
       "      <td>Full-Time</td>\n",
       "    </tr>\n",
       "  </tbody>\n",
       "</table>\n",
       "<p>3552 rows × 2 columns</p>\n",
       "</div>"
      ],
      "text/plain": [
       "                      Job Title Employment Type\n",
       "0                Data Scientist       Full-Time\n",
       "1                Data Scientist       Full-Time\n",
       "2     Machine Learning Engineer       Full-Time\n",
       "3     Machine Learning Engineer       Full-Time\n",
       "4                Data Scientist       Full-Time\n",
       "...                         ...             ...\n",
       "3547             Data Scientist       Full-Time\n",
       "3548   Principal Data Scientist       Full-Time\n",
       "3549             Data Scientist       Full-Time\n",
       "3550      Business Data Analyst        Contract\n",
       "3551       Data Science Manager       Full-Time\n",
       "\n",
       "[3552 rows x 2 columns]"
      ]
     },
     "execution_count": 89,
     "metadata": {},
     "output_type": "execute_result"
    }
   ],
   "source": [
    "job_empl_type"
   ]
  },
  {
   "cell_type": "markdown",
   "id": "30df01d9",
   "metadata": {},
   "source": [
    "# : operator for 1 d"
   ]
  },
  {
   "cell_type": "code",
   "execution_count": 90,
   "id": "64cc8282",
   "metadata": {},
   "outputs": [],
   "source": [
    "list_2=[11,12,13,14,55,67,90,8]"
   ]
  },
  {
   "cell_type": "code",
   "execution_count": 91,
   "id": "b91c47c5",
   "metadata": {},
   "outputs": [
    {
     "data": {
      "text/plain": [
       "8"
      ]
     },
     "execution_count": 91,
     "metadata": {},
     "output_type": "execute_result"
    }
   ],
   "source": [
    "len(list_2)"
   ]
  },
  {
   "cell_type": "code",
   "execution_count": 97,
   "id": "9f84780f",
   "metadata": {},
   "outputs": [
    {
     "data": {
      "text/plain": [
       "8"
      ]
     },
     "execution_count": 97,
     "metadata": {},
     "output_type": "execute_result"
    }
   ],
   "source": [
    "list_2[len(list_2)-1]"
   ]
  },
  {
   "cell_type": "code",
   "execution_count": 98,
   "id": "f5f5f7f1",
   "metadata": {},
   "outputs": [
    {
     "data": {
      "text/plain": [
       "[11, 12, 13, 14, 55, 67, 90, 8]"
      ]
     },
     "execution_count": 98,
     "metadata": {},
     "output_type": "execute_result"
    }
   ],
   "source": [
    "list_2[:]"
   ]
  },
  {
   "cell_type": "code",
   "execution_count": 99,
   "id": "c4feaec8",
   "metadata": {},
   "outputs": [
    {
     "data": {
      "text/plain": [
       "[13, 14, 55, 67, 90, 8]"
      ]
     },
     "execution_count": 99,
     "metadata": {},
     "output_type": "execute_result"
    }
   ],
   "source": [
    "list_2[2:]"
   ]
  },
  {
   "cell_type": "code",
   "execution_count": 100,
   "id": "afe4e578",
   "metadata": {},
   "outputs": [
    {
     "data": {
      "text/plain": [
       "[11, 12, 13, 14]"
      ]
     },
     "execution_count": 100,
     "metadata": {},
     "output_type": "execute_result"
    }
   ],
   "source": [
    "list_2[:4]"
   ]
  },
  {
   "cell_type": "code",
   "execution_count": 101,
   "id": "09a42099",
   "metadata": {},
   "outputs": [
    {
     "data": {
      "text/plain": [
       "[14, 55, 67, 90]"
      ]
     },
     "execution_count": 101,
     "metadata": {},
     "output_type": "execute_result"
    }
   ],
   "source": [
    "list_2[3:7]"
   ]
  },
  {
   "cell_type": "code",
   "execution_count": 102,
   "id": "7df2ecee",
   "metadata": {},
   "outputs": [
    {
     "data": {
      "text/plain": [
       "[11, 13, 55, 90]"
      ]
     },
     "execution_count": 102,
     "metadata": {},
     "output_type": "execute_result"
    }
   ],
   "source": [
    "list_2[0:7:2]"
   ]
  },
  {
   "cell_type": "code",
   "execution_count": 103,
   "id": "f680a4a0",
   "metadata": {},
   "outputs": [
    {
     "data": {
      "text/plain": [
       "[11, 13, 55, 90]"
      ]
     },
     "execution_count": 103,
     "metadata": {},
     "output_type": "execute_result"
    }
   ],
   "source": [
    "list_2[::2]"
   ]
  },
  {
   "cell_type": "code",
   "execution_count": 104,
   "id": "0f782d22",
   "metadata": {},
   "outputs": [
    {
     "data": {
      "text/plain": [
       "[8, 90, 67, 55, 14, 13, 12, 11]"
      ]
     },
     "execution_count": 104,
     "metadata": {},
     "output_type": "execute_result"
    }
   ],
   "source": [
    "list_2[::-1]"
   ]
  },
  {
   "cell_type": "markdown",
   "id": "22a84431",
   "metadata": {},
   "source": [
    "# : operator for 2d"
   ]
  },
  {
   "cell_type": "code",
   "execution_count": 105,
   "id": "e04ce248",
   "metadata": {},
   "outputs": [],
   "source": [
    "import numpy as np"
   ]
  },
  {
   "cell_type": "code",
   "execution_count": 106,
   "id": "7eaa7c28",
   "metadata": {},
   "outputs": [],
   "source": [
    "arr_2d=np.array([[11,12,13],[14,15,16],[17,18,19]])"
   ]
  },
  {
   "cell_type": "code",
   "execution_count": 107,
   "id": "1324423e",
   "metadata": {},
   "outputs": [
    {
     "data": {
      "text/plain": [
       "array([[11, 12, 13],\n",
       "       [14, 15, 16],\n",
       "       [17, 18, 19]])"
      ]
     },
     "execution_count": 107,
     "metadata": {},
     "output_type": "execute_result"
    }
   ],
   "source": [
    "arr_2d"
   ]
  },
  {
   "cell_type": "code",
   "execution_count": 108,
   "id": "18107613",
   "metadata": {},
   "outputs": [
    {
     "data": {
      "text/plain": [
       "array([[11, 12, 13],\n",
       "       [14, 15, 16],\n",
       "       [17, 18, 19]])"
      ]
     },
     "execution_count": 108,
     "metadata": {},
     "output_type": "execute_result"
    }
   ],
   "source": [
    "arr_2d[:]"
   ]
  },
  {
   "cell_type": "code",
   "execution_count": 109,
   "id": "40a8f001",
   "metadata": {},
   "outputs": [
    {
     "data": {
      "text/plain": [
       "array([[11, 12, 13],\n",
       "       [14, 15, 16],\n",
       "       [17, 18, 19]])"
      ]
     },
     "execution_count": 109,
     "metadata": {},
     "output_type": "execute_result"
    }
   ],
   "source": [
    "arr_2d[:,:]"
   ]
  },
  {
   "cell_type": "code",
   "execution_count": 110,
   "id": "bcae94b5",
   "metadata": {},
   "outputs": [
    {
     "data": {
      "text/plain": [
       "array([11, 12, 13])"
      ]
     },
     "execution_count": 110,
     "metadata": {},
     "output_type": "execute_result"
    }
   ],
   "source": [
    "arr_2d[0,:]"
   ]
  },
  {
   "cell_type": "code",
   "execution_count": 111,
   "id": "cd6410f4",
   "metadata": {},
   "outputs": [
    {
     "data": {
      "text/plain": [
       "array([11, 14, 17])"
      ]
     },
     "execution_count": 111,
     "metadata": {},
     "output_type": "execute_result"
    }
   ],
   "source": [
    "arr_2d[:,0]"
   ]
  },
  {
   "cell_type": "code",
   "execution_count": 112,
   "id": "2b39baac",
   "metadata": {},
   "outputs": [
    {
     "data": {
      "text/plain": [
       "array([[11, 13],\n",
       "       [17, 19]])"
      ]
     },
     "execution_count": 112,
     "metadata": {},
     "output_type": "execute_result"
    }
   ],
   "source": [
    "arr_2d[0::2,0::2]"
   ]
  },
  {
   "cell_type": "code",
   "execution_count": 115,
   "id": "4edf9918",
   "metadata": {},
   "outputs": [
    {
     "data": {
      "text/html": [
       "<div>\n",
       "<style scoped>\n",
       "    .dataframe tbody tr th:only-of-type {\n",
       "        vertical-align: middle;\n",
       "    }\n",
       "\n",
       "    .dataframe tbody tr th {\n",
       "        vertical-align: top;\n",
       "    }\n",
       "\n",
       "    .dataframe thead th {\n",
       "        text-align: right;\n",
       "    }\n",
       "</style>\n",
       "<table border=\"1\" class=\"dataframe\">\n",
       "  <thead>\n",
       "    <tr style=\"text-align: right;\">\n",
       "      <th></th>\n",
       "      <th>Job Title</th>\n",
       "      <th>Employment Type</th>\n",
       "      <th>Experience Level</th>\n",
       "      <th>Expertise Level</th>\n",
       "      <th>Salary</th>\n",
       "      <th>Salary Currency</th>\n",
       "      <th>Company Location</th>\n",
       "      <th>Salary in USD</th>\n",
       "      <th>Employee Residence</th>\n",
       "      <th>Company Size</th>\n",
       "      <th>Year</th>\n",
       "    </tr>\n",
       "  </thead>\n",
       "  <tbody>\n",
       "    <tr>\n",
       "      <th>0</th>\n",
       "      <td>Data Scientist</td>\n",
       "      <td>Full-Time</td>\n",
       "      <td>Senior</td>\n",
       "      <td>Expert</td>\n",
       "      <td>265000</td>\n",
       "      <td>United States Dollar</td>\n",
       "      <td>United States</td>\n",
       "      <td>265000</td>\n",
       "      <td>United States</td>\n",
       "      <td>Medium</td>\n",
       "      <td>2023</td>\n",
       "    </tr>\n",
       "    <tr>\n",
       "      <th>1</th>\n",
       "      <td>Data Scientist</td>\n",
       "      <td>Full-Time</td>\n",
       "      <td>Senior</td>\n",
       "      <td>Expert</td>\n",
       "      <td>172000</td>\n",
       "      <td>United States Dollar</td>\n",
       "      <td>United States</td>\n",
       "      <td>172000</td>\n",
       "      <td>United States</td>\n",
       "      <td>Medium</td>\n",
       "      <td>2023</td>\n",
       "    </tr>\n",
       "    <tr>\n",
       "      <th>2</th>\n",
       "      <td>Machine Learning Engineer</td>\n",
       "      <td>Full-Time</td>\n",
       "      <td>Mid</td>\n",
       "      <td>Intermediate</td>\n",
       "      <td>155810</td>\n",
       "      <td>United States Dollar</td>\n",
       "      <td>United States</td>\n",
       "      <td>155810</td>\n",
       "      <td>United States</td>\n",
       "      <td>Medium</td>\n",
       "      <td>2023</td>\n",
       "    </tr>\n",
       "    <tr>\n",
       "      <th>3</th>\n",
       "      <td>Machine Learning Engineer</td>\n",
       "      <td>Full-Time</td>\n",
       "      <td>Mid</td>\n",
       "      <td>Intermediate</td>\n",
       "      <td>106720</td>\n",
       "      <td>United States Dollar</td>\n",
       "      <td>United States</td>\n",
       "      <td>106720</td>\n",
       "      <td>United States</td>\n",
       "      <td>Medium</td>\n",
       "      <td>2023</td>\n",
       "    </tr>\n",
       "    <tr>\n",
       "      <th>4</th>\n",
       "      <td>Data Scientist</td>\n",
       "      <td>Full-Time</td>\n",
       "      <td>Entry</td>\n",
       "      <td>Junior</td>\n",
       "      <td>160800</td>\n",
       "      <td>United States Dollar</td>\n",
       "      <td>United Kingdom</td>\n",
       "      <td>160800</td>\n",
       "      <td>United Kingdom</td>\n",
       "      <td>Medium</td>\n",
       "      <td>2023</td>\n",
       "    </tr>\n",
       "  </tbody>\n",
       "</table>\n",
       "</div>"
      ],
      "text/plain": [
       "                   Job Title Employment Type Experience Level Expertise Level  \\\n",
       "0             Data Scientist       Full-Time           Senior          Expert   \n",
       "1             Data Scientist       Full-Time           Senior          Expert   \n",
       "2  Machine Learning Engineer       Full-Time              Mid    Intermediate   \n",
       "3  Machine Learning Engineer       Full-Time              Mid    Intermediate   \n",
       "4             Data Scientist       Full-Time            Entry          Junior   \n",
       "\n",
       "   Salary       Salary Currency Company Location  Salary in USD  \\\n",
       "0  265000  United States Dollar    United States         265000   \n",
       "1  172000  United States Dollar    United States         172000   \n",
       "2  155810  United States Dollar    United States         155810   \n",
       "3  106720  United States Dollar    United States         106720   \n",
       "4  160800  United States Dollar   United Kingdom         160800   \n",
       "\n",
       "  Employee Residence Company Size  Year  \n",
       "0      United States       Medium  2023  \n",
       "1      United States       Medium  2023  \n",
       "2      United States       Medium  2023  \n",
       "3      United States       Medium  2023  \n",
       "4     United Kingdom       Medium  2023  "
      ]
     },
     "execution_count": 115,
     "metadata": {},
     "output_type": "execute_result"
    }
   ],
   "source": [
    "data_file.head()"
   ]
  },
  {
   "cell_type": "code",
   "execution_count": 116,
   "id": "491f051a",
   "metadata": {},
   "outputs": [],
   "source": [
    "#iloc.....integer location ....pos....0,1,2\n",
    "#loc.....name or its col or row name"
   ]
  },
  {
   "cell_type": "code",
   "execution_count": 121,
   "id": "dc984827",
   "metadata": {},
   "outputs": [],
   "source": [
    "#data_file.loc[:,[\"Job Title\",\"Experience Level\",\"Salary\"]]"
   ]
  },
  {
   "cell_type": "code",
   "execution_count": 124,
   "id": "f769d70d",
   "metadata": {},
   "outputs": [],
   "source": [
    "#data_file.iloc[5:51,[0,3,5]]"
   ]
  },
  {
   "cell_type": "code",
   "execution_count": 133,
   "id": "430f1eed",
   "metadata": {},
   "outputs": [],
   "source": [
    "ds_2023=data_file[data_file[\"Year\"]==2023]"
   ]
  },
  {
   "cell_type": "code",
   "execution_count": 139,
   "id": "311e3619",
   "metadata": {},
   "outputs": [],
   "source": [
    "#ds_2023[ds_2023[\"Job Title\"]==\"Data Scientist\"][\"Salary\"].sum(axis=0)/len(ds_2023)"
   ]
  },
  {
   "cell_type": "code",
   "execution_count": 140,
   "id": "4f87681e",
   "metadata": {},
   "outputs": [],
   "source": [
    "#len(data_file[data_file[\"Job Title\"]==\"Data Scientist\"])"
   ]
  },
  {
   "cell_type": "code",
   "execution_count": 141,
   "id": "be1b6bc7",
   "metadata": {},
   "outputs": [
    {
     "data": {
      "text/plain": [
       "Data Engineer                    745\n",
       "Data Scientist                   679\n",
       "Data Analyst                     490\n",
       "Machine Learning Engineer        325\n",
       "Analytics Engineer               143\n",
       "                                ... \n",
       "Data DevOps Engineer               1\n",
       "Data Engineer 2                    1\n",
       "Analytics Engineering Manager      1\n",
       "Sales Data Analyst                 1\n",
       "Consultant Data Engineer           1\n",
       "Name: Job Title, Length: 115, dtype: int64"
      ]
     },
     "execution_count": 141,
     "metadata": {},
     "output_type": "execute_result"
    }
   ],
   "source": [
    "data_file[\"Job Title\"].value_counts()"
   ]
  },
  {
   "cell_type": "markdown",
   "id": "aa2ea36b",
   "metadata": {},
   "source": [
    "### visaulization"
   ]
  },
  {
   "cell_type": "code",
   "execution_count": 142,
   "id": "7a88085e",
   "metadata": {},
   "outputs": [],
   "source": [
    "import seaborn as sb\n",
    "from matplotlib import pyplot as plt"
   ]
  },
  {
   "cell_type": "code",
   "execution_count": 152,
   "id": "c04bfcbe",
   "metadata": {},
   "outputs": [],
   "source": [
    "#dir(plt)"
   ]
  },
  {
   "cell_type": "code",
   "execution_count": 154,
   "id": "4be6fc37",
   "metadata": {},
   "outputs": [
    {
     "data": {
      "image/png": "[encoded data removed]",
      "text/plain": [
       "<Figure size 640x480 with 1 Axes>"
      ]
     },
     "metadata": {},
     "output_type": "display_data"
    }
   ],
   "source": [
    "plt.xticks(rotation=90)\n",
    "sb.countplot(x=\"Expertise Level\",data=data_file,hue=\"Company Size\")\n",
    "plt.show()"
   ]
  },
  {
   "cell_type": "code",
   "execution_count": 155,
   "id": "53a0947d",
   "metadata": {},
   "outputs": [],
   "source": [
    "data_ds=data_file[data_file[\"Job Title\"]==\"Data Scientist\"]"
   ]
  },
  {
   "cell_type": "code",
   "execution_count": 159,
   "id": "245e8a60",
   "metadata": {},
   "outputs": [
    {
     "data": {
      "image/png": "[encoded data removed]",
      "text/plain": [
       "<Figure size 640x480 with 1 Axes>"
      ]
     },
     "metadata": {},
     "output_type": "display_data"
    }
   ],
   "source": [
    "sb.lineplot(x=\"Year\",y=\"Salary\",data=data_ds)\n",
    "plt.show()"
   ]
  },
  {
   "cell_type": "code",
   "execution_count": 157,
   "id": "40bcab99",
   "metadata": {},
   "outputs": [
    {
     "data": {
      "text/html": [
       "<div>\n",
       "<style scoped>\n",
       "    .dataframe tbody tr th:only-of-type {\n",
       "        vertical-align: middle;\n",
       "    }\n",
       "\n",
       "    .dataframe tbody tr th {\n",
       "        vertical-align: top;\n",
       "    }\n",
       "\n",
       "    .dataframe thead th {\n",
       "        text-align: right;\n",
       "    }\n",
       "</style>\n",
       "<table border=\"1\" class=\"dataframe\">\n",
       "  <thead>\n",
       "    <tr style=\"text-align: right;\">\n",
       "      <th></th>\n",
       "      <th>Job Title</th>\n",
       "      <th>Employment Type</th>\n",
       "      <th>Experience Level</th>\n",
       "      <th>Expertise Level</th>\n",
       "      <th>Salary</th>\n",
       "      <th>Salary Currency</th>\n",
       "      <th>Company Location</th>\n",
       "      <th>Salary in USD</th>\n",
       "      <th>Employee Residence</th>\n",
       "      <th>Company Size</th>\n",
       "      <th>Year</th>\n",
       "    </tr>\n",
       "  </thead>\n",
       "  <tbody>\n",
       "    <tr>\n",
       "      <th>0</th>\n",
       "      <td>Data Scientist</td>\n",
       "      <td>Full-Time</td>\n",
       "      <td>Senior</td>\n",
       "      <td>Expert</td>\n",
       "      <td>265000</td>\n",
       "      <td>United States Dollar</td>\n",
       "      <td>United States</td>\n",
       "      <td>265000</td>\n",
       "      <td>United States</td>\n",
       "      <td>Medium</td>\n",
       "      <td>2023</td>\n",
       "    </tr>\n",
       "    <tr>\n",
       "      <th>1</th>\n",
       "      <td>Data Scientist</td>\n",
       "      <td>Full-Time</td>\n",
       "      <td>Senior</td>\n",
       "      <td>Expert</td>\n",
       "      <td>172000</td>\n",
       "      <td>United States Dollar</td>\n",
       "      <td>United States</td>\n",
       "      <td>172000</td>\n",
       "      <td>United States</td>\n",
       "      <td>Medium</td>\n",
       "      <td>2023</td>\n",
       "    </tr>\n",
       "    <tr>\n",
       "      <th>4</th>\n",
       "      <td>Data Scientist</td>\n",
       "      <td>Full-Time</td>\n",
       "      <td>Entry</td>\n",
       "      <td>Junior</td>\n",
       "      <td>160800</td>\n",
       "      <td>United States Dollar</td>\n",
       "      <td>United Kingdom</td>\n",
       "      <td>160800</td>\n",
       "      <td>United Kingdom</td>\n",
       "      <td>Medium</td>\n",
       "      <td>2023</td>\n",
       "    </tr>\n",
       "    <tr>\n",
       "      <th>5</th>\n",
       "      <td>Data Scientist</td>\n",
       "      <td>Full-Time</td>\n",
       "      <td>Entry</td>\n",
       "      <td>Junior</td>\n",
       "      <td>132200</td>\n",
       "      <td>United States Dollar</td>\n",
       "      <td>United Kingdom</td>\n",
       "      <td>132200</td>\n",
       "      <td>United Kingdom</td>\n",
       "      <td>Medium</td>\n",
       "      <td>2023</td>\n",
       "    </tr>\n",
       "    <tr>\n",
       "      <th>10</th>\n",
       "      <td>Data Scientist</td>\n",
       "      <td>Full-Time</td>\n",
       "      <td>Senior</td>\n",
       "      <td>Expert</td>\n",
       "      <td>208400</td>\n",
       "      <td>United States Dollar</td>\n",
       "      <td>United States</td>\n",
       "      <td>208400</td>\n",
       "      <td>United States</td>\n",
       "      <td>Medium</td>\n",
       "      <td>2023</td>\n",
       "    </tr>\n",
       "    <tr>\n",
       "      <th>...</th>\n",
       "      <td>...</td>\n",
       "      <td>...</td>\n",
       "      <td>...</td>\n",
       "      <td>...</td>\n",
       "      <td>...</td>\n",
       "      <td>...</td>\n",
       "      <td>...</td>\n",
       "      <td>...</td>\n",
       "      <td>...</td>\n",
       "      <td>...</td>\n",
       "      <td>...</td>\n",
       "    </tr>\n",
       "    <tr>\n",
       "      <th>3538</th>\n",
       "      <td>Data Scientist</td>\n",
       "      <td>Full-Time</td>\n",
       "      <td>Mid</td>\n",
       "      <td>Intermediate</td>\n",
       "      <td>118000</td>\n",
       "      <td>United States Dollar</td>\n",
       "      <td>United States</td>\n",
       "      <td>118000</td>\n",
       "      <td>United States</td>\n",
       "      <td>Medium</td>\n",
       "      <td>2020</td>\n",
       "    </tr>\n",
       "    <tr>\n",
       "      <th>3539</th>\n",
       "      <td>Data Scientist</td>\n",
       "      <td>Full-Time</td>\n",
       "      <td>Mid</td>\n",
       "      <td>Intermediate</td>\n",
       "      <td>138350</td>\n",
       "      <td>United States Dollar</td>\n",
       "      <td>United States</td>\n",
       "      <td>138350</td>\n",
       "      <td>United States</td>\n",
       "      <td>Medium</td>\n",
       "      <td>2020</td>\n",
       "    </tr>\n",
       "    <tr>\n",
       "      <th>3543</th>\n",
       "      <td>Data Scientist</td>\n",
       "      <td>Full-Time</td>\n",
       "      <td>Mid</td>\n",
       "      <td>Intermediate</td>\n",
       "      <td>160000</td>\n",
       "      <td>Singapore Dollar</td>\n",
       "      <td>Israel</td>\n",
       "      <td>119059</td>\n",
       "      <td>Singapore</td>\n",
       "      <td>Medium</td>\n",
       "      <td>2021</td>\n",
       "    </tr>\n",
       "    <tr>\n",
       "      <th>3547</th>\n",
       "      <td>Data Scientist</td>\n",
       "      <td>Full-Time</td>\n",
       "      <td>Senior</td>\n",
       "      <td>Expert</td>\n",
       "      <td>412000</td>\n",
       "      <td>United States Dollar</td>\n",
       "      <td>United States</td>\n",
       "      <td>412000</td>\n",
       "      <td>United States</td>\n",
       "      <td>Large</td>\n",
       "      <td>2020</td>\n",
       "    </tr>\n",
       "    <tr>\n",
       "      <th>3549</th>\n",
       "      <td>Data Scientist</td>\n",
       "      <td>Full-Time</td>\n",
       "      <td>Entry</td>\n",
       "      <td>Junior</td>\n",
       "      <td>105000</td>\n",
       "      <td>United States Dollar</td>\n",
       "      <td>United States</td>\n",
       "      <td>105000</td>\n",
       "      <td>United States</td>\n",
       "      <td>Small</td>\n",
       "      <td>2020</td>\n",
       "    </tr>\n",
       "  </tbody>\n",
       "</table>\n",
       "<p>679 rows × 11 columns</p>\n",
       "</div>"
      ],
      "text/plain": [
       "           Job Title Employment Type Experience Level Expertise Level  Salary  \\\n",
       "0     Data Scientist       Full-Time           Senior          Expert  265000   \n",
       "1     Data Scientist       Full-Time           Senior          Expert  172000   \n",
       "4     Data Scientist       Full-Time            Entry          Junior  160800   \n",
       "5     Data Scientist       Full-Time            Entry          Junior  132200   \n",
       "10    Data Scientist       Full-Time           Senior          Expert  208400   \n",
       "...              ...             ...              ...             ...     ...   \n",
       "3538  Data Scientist       Full-Time              Mid    Intermediate  118000   \n",
       "3539  Data Scientist       Full-Time              Mid    Intermediate  138350   \n",
       "3543  Data Scientist       Full-Time              Mid    Intermediate  160000   \n",
       "3547  Data Scientist       Full-Time           Senior          Expert  412000   \n",
       "3549  Data Scientist       Full-Time            Entry          Junior  105000   \n",
       "\n",
       "           Salary Currency Company Location  Salary in USD Employee Residence  \\\n",
       "0     United States Dollar    United States         265000      United States   \n",
       "1     United States Dollar    United States         172000      United States   \n",
       "4     United States Dollar   United Kingdom         160800     United Kingdom   \n",
       "5     United States Dollar   United Kingdom         132200     United Kingdom   \n",
       "10    United States Dollar    United States         208400      United States   \n",
       "...                    ...              ...            ...                ...   \n",
       "3538  United States Dollar    United States         118000      United States   \n",
       "3539  United States Dollar    United States         138350      United States   \n",
       "3543      Singapore Dollar           Israel         119059          Singapore   \n",
       "3547  United States Dollar    United States         412000      United States   \n",
       "3549  United States Dollar    United States         105000      United States   \n",
       "\n",
       "     Company Size  Year  \n",
       "0          Medium  2023  \n",
       "1          Medium  2023  \n",
       "4          Medium  2023  \n",
       "5          Medium  2023  \n",
       "10         Medium  2023  \n",
       "...           ...   ...  \n",
       "3538       Medium  2020  \n",
       "3539       Medium  2020  \n",
       "3543       Medium  2021  \n",
       "3547        Large  2020  \n",
       "3549        Small  2020  \n",
       "\n",
       "[679 rows x 11 columns]"
      ]
     },
     "execution_count": 157,
     "metadata": {},
     "output_type": "execute_result"
    }
   ],
   "source": [
    "data_ds"
   ]
  },
  {
   "cell_type": "code",
   "execution_count": 160,
   "id": "10f58470",
   "metadata": {},
   "outputs": [],
   "source": [
    "import dtale"
   ]
  },
  {
   "cell_type": "code",
   "execution_count": 162,
   "id": "bdb89cee",
   "metadata": {},
   "outputs": [],
   "source": [
    "show=dtale.show(data_file)"
   ]
  },
  {
   "cell_type": "code",
   "execution_count": 163,
   "id": "63393b0a",
   "metadata": {},
   "outputs": [
    {
     "data": {
      "text/html": [
       "\n",
       "        <iframe\n",
       "            width=\"100%\"\n",
       "            height=\"475\"\n",
       "            src=\"http://DESKTOP-F9UR1P3:40000/dtale/iframe/1\"\n",
       "            frameborder=\"0\"\n",
       "            allowfullscreen\n",
       "            \n",
       "        ></iframe>\n",
       "        "
      ],
      "text/plain": [
       "<IPython.lib.display.IFrame at 0x20b2250d5d0>"
      ]
     },
     "metadata": {},
     "output_type": "display_data"
    },
    {
     "data": {
      "text/plain": []
     },
     "execution_count": 163,
     "metadata": {},
     "output_type": "execute_result"
    }
   ],
   "source": [
    "show"
   ]
  },
  {
   "cell_type": "code",
   "execution_count": null,
   "id": "ba7cb45c",
   "metadata": {},
   "outputs": [],
   "source": []
  }
 ],
 "metadata": {
  "kernelspec": {
   "display_name": "Python 3 (ipykernel)",
   "language": "python",
   "name": "python3"
  },
  "language_info": {
   "codemirror_mode": {
    "name": "ipython",
    "version": 3
   },
   "file_extension": ".py",
   "mimetype": "text/x-python",
   "name": "python",
   "nbconvert_exporter": "python",
   "pygments_lexer": "ipython3",
   "version": "3.11.3"
  }
 },
 "nbformat": 4,
 "nbformat_minor": 5
}
